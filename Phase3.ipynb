{
 "cells": [
  {
   "cell_type": "code",
   "execution_count": 108,
   "id": "38c61939",
   "metadata": {},
   "outputs": [],
   "source": [
    "import pandas as pd\n",
    "import numpy as np\n",
    "import matplotlib.pyplot as plt\n",
    "import seaborn as sns\n",
    "from pathlib import Path\n",
    "path_1 = Path(r'D:\\jio institute\\q3\\responsible_ai\\coding-assign\\Bondora_dataset\\Bondora_dataset')"
   ]
  },
  {
   "cell_type": "code",
   "execution_count": 109,
   "id": "f4642746",
   "metadata": {},
   "outputs": [],
   "source": [
    "df = pd.read_csv('D:\\\\jio institute\\\\q3\\\\responsible_ai\\\\coding-assign\\\\Bondora_dataset\\\\Bondora_dataset\\\\Bondora_preprocessed.csv')"
   ]
  },
  {
   "cell_type": "code",
   "execution_count": 110,
   "id": "62ecd763",
   "metadata": {},
   "outputs": [],
   "source": [
    "# drop the columns 'PreviousRepaymentsBeforeLoan', 'CreditScoreEsMicroL', 'County' as the missing values for these columns are very high\n",
    "\n",
    "df.drop(['PreviousRepaymentsBeforeLoan', 'CreditScoreEsMicroL', 'County'], axis = 1, inplace = True)"
   ]
  },
  {
   "cell_type": "code",
   "execution_count": 111,
   "id": "cfcf5279",
   "metadata": {},
   "outputs": [],
   "source": [
    "req_df = df.dropna().reset_index(drop = True)"
   ]
  },
  {
   "cell_type": "code",
   "execution_count": 112,
   "id": "92847de6",
   "metadata": {},
   "outputs": [],
   "source": [
    "req_df[\"amount_difference\"]=req_df[\"AppliedAmount\"]-req_df[\"Amount\"]"
   ]
  },
  {
   "cell_type": "code",
   "execution_count": 113,
   "id": "9fbbce5b",
   "metadata": {},
   "outputs": [],
   "source": [
    "req_df[\"interest_duration_index\"]=req_df[\"Interest\"]*req_df[\"LoanDuration\"]"
   ]
  },
  {
   "cell_type": "code",
   "execution_count": 52,
   "id": "55bd82bc",
   "metadata": {},
   "outputs": [],
   "source": [
    "#req_df=req_df[req_df[\"Gender\"]==\"Female\"]"
   ]
  },
  {
   "cell_type": "code",
   "execution_count": 114,
   "id": "2834e9c0",
   "metadata": {},
   "outputs": [],
   "source": [
    "lap=req_df[:50000]"
   ]
  },
  {
   "cell_type": "code",
   "execution_count": 115,
   "id": "234f7331",
   "metadata": {},
   "outputs": [],
   "source": [
    "lag=req_df[50000:len(req_df)]"
   ]
  },
  {
   "cell_type": "code",
   "execution_count": 116,
   "id": "1dbc17e8",
   "metadata": {},
   "outputs": [],
   "source": [
    "X=lap[['amount_difference', 'interest_duration_index','IncomeTotal','PrincipalPaymentsMade','PreviousEarlyRepaymentsCountBeforeLoan']]"
   ]
  },
  {
   "cell_type": "code",
   "execution_count": 117,
   "id": "c8e799ff",
   "metadata": {},
   "outputs": [
    {
     "data": {
      "text/plain": [
       "-0.2715067739932127"
      ]
     },
     "execution_count": 117,
     "metadata": {},
     "output_type": "execute_result"
    }
   ],
   "source": [
    "lap[\"PrincipalPaymentsMade\"].corr(lap[\"PrincipalBalance\"])"
   ]
  },
  {
   "cell_type": "markdown",
   "id": "1bff4676",
   "metadata": {},
   "source": [
    "Variation Inflation factor"
   ]
  },
  {
   "cell_type": "code",
   "execution_count": 118,
   "id": "48777937",
   "metadata": {},
   "outputs": [
    {
     "name": "stdout",
     "output_type": "stream",
     "text": [
      "                                  feature       VIF\n",
      "0                       amount_difference  1.085916\n",
      "1                 interest_duration_index  1.324648\n",
      "2                             IncomeTotal  1.050448\n",
      "3                   PrincipalPaymentsMade  1.229152\n",
      "4  PreviousEarlyRepaymentsCountBeforeLoan  1.030936\n"
     ]
    }
   ],
   "source": [
    "from statsmodels.stats.outliers_influence import variance_inflation_factor\n",
    "vif_data = pd.DataFrame()\n",
    "vif_data[\"feature\"] = X.columns\n",
    "vif_data[\"VIF\"] = [variance_inflation_factor(X.values, i)\n",
    "                          for i in range(len(X.columns))]\n",
    "  \n",
    "print(vif_data)"
   ]
  },
  {
   "cell_type": "markdown",
   "id": "0456c01e",
   "metadata": {},
   "source": [
    "Since VIF Is less than 5, there is no significant cross correlation between variables"
   ]
  },
  {
   "cell_type": "code",
   "execution_count": 119,
   "id": "91e59d9e",
   "metadata": {},
   "outputs": [],
   "source": [
    "y = lap['Default'].values\n",
    "y = y.astype('int')"
   ]
  },
  {
   "cell_type": "code",
   "execution_count": 120,
   "id": "29ddc913",
   "metadata": {},
   "outputs": [
    {
     "name": "stdout",
     "output_type": "stream",
     "text": [
      "Accuracy: 0.7854\n",
      "[[3431 2439]\n",
      " [ 780 8350]]\n",
      "              precision    recall  f1-score   support\n",
      "\n",
      "           0       0.81      0.58      0.68      5870\n",
      "           1       0.77      0.91      0.84      9130\n",
      "\n",
      "    accuracy                           0.79     15000\n",
      "   macro avg       0.79      0.75      0.76     15000\n",
      "weighted avg       0.79      0.79      0.78     15000\n",
      "\n"
     ]
    }
   ],
   "source": [
    "from sklearn.linear_model import LogisticRegression\n",
    "from sklearn.model_selection import train_test_split\n",
    "from sklearn.metrics import confusion_matrix, classification_report\n",
    "X_train, X_test, y_train, y_test = train_test_split(X, y, test_size=0.3, random_state=123)\n",
    "\n",
    "model = LogisticRegression()\n",
    "model.fit(X_train, y_train)\n",
    "y_pred = model.predict(X_test)\n",
    "\n",
    "accuracy = model.score(X_test, y_test)\n",
    "print('Accuracy:', accuracy)\n",
    "\n",
    "print(confusion_matrix(y_test, y_pred))\n",
    "print(classification_report(y_test, y_pred))"
   ]
  },
  {
   "cell_type": "code",
   "execution_count": 121,
   "id": "b910a908",
   "metadata": {},
   "outputs": [
    {
     "data": {
      "text/plain": [
       "0.7192666666666667"
      ]
     },
     "execution_count": 121,
     "metadata": {},
     "output_type": "execute_result"
    }
   ],
   "source": [
    "pd=(np.sum(y_pred))/len(y_pred)\n",
    "pd"
   ]
  },
  {
   "cell_type": "markdown",
   "id": "59ca9af1",
   "metadata": {},
   "source": [
    "The probability of disadvantage class is 0.7192"
   ]
  },
  {
   "cell_type": "markdown",
   "id": "de619579",
   "metadata": {},
   "source": [
    "# Shapley values"
   ]
  },
  {
   "cell_type": "code",
   "execution_count": 106,
   "id": "675b3029",
   "metadata": {},
   "outputs": [
    {
     "data": {
      "image/png": "[encoded data removed]",
      "text/plain": [
       "<Figure size 576x252 with 2 Axes>"
      ]
     },
     "metadata": {
      "needs_background": "light"
     },
     "output_type": "display_data"
    }
   ],
   "source": [
    "import matplotlib.pyplot as plt\n",
    "f = plt.figure()\n",
    "shap.summary_plot(shap_values, X_train)"
   ]
  },
  {
   "cell_type": "markdown",
   "id": "c49758fa",
   "metadata": {},
   "source": [
    "##### from diffprivlib.models import LogisticRegression\n",
    "\n",
    "model = LogisticRegression(epsilon=1)\n",
    "model.fit(X_train, y_train)\n",
    "y_pred = model.predict(X_test)\n",
    "\n",
    "accuracy = model.score(X_test, y_test)\n",
    "print('Accuracy:', accuracy)\n",
    "print(confusion_matrix(y_test, y_pred))\n",
    "print(classification_report(y_test, y_pred))"
   ]
  },
  {
   "cell_type": "markdown",
   "id": "e2c31f64",
   "metadata": {},
   "source": [
    "Adding noise to the dataset"
   ]
  },
  {
   "cell_type": "code",
   "execution_count": 91,
   "id": "8b1d2f71",
   "metadata": {},
   "outputs": [],
   "source": [
    "epsilon_AA = 0.6\n",
    "sensitivity = 1\n",
    "\n",
    "req_df['AppliedAmount'] = req_df['AppliedAmount'] + np.random.laplace(loc = 0, scale = sensitivity/epsilon_AA)"
   ]
  },
  {
   "cell_type": "code",
   "execution_count": 165,
   "id": "b2098458",
   "metadata": {},
   "outputs": [
    {
     "name": "stdout",
     "output_type": "stream",
     "text": [
      "Accuracy: 0.7854\n",
      "[[3431 2439]\n",
      " [ 780 8350]]\n",
      "              precision    recall  f1-score   support\n",
      "\n",
      "           0       0.81      0.58      0.68      5870\n",
      "           1       0.77      0.91      0.84      9130\n",
      "\n",
      "    accuracy                           0.79     15000\n",
      "   macro avg       0.79      0.75      0.76     15000\n",
      "weighted avg       0.79      0.79      0.78     15000\n",
      "\n"
     ]
    }
   ],
   "source": [
    "from sklearn.linear_model import LogisticRegression\n",
    "from sklearn.model_selection import train_test_split\n",
    "from sklearn.metrics import confusion_matrix, classification_report\n",
    "\n",
    "\n",
    "model = LogisticRegression()\n",
    "model.fit(X_train, y_train)\n",
    "y_pred = model.predict(X_test)\n",
    "\n",
    "accuracy = model.score(X_test, y_test)\n",
    "print('Accuracy:', accuracy)\n",
    "\n",
    "print(confusion_matrix(y_test, y_pred))\n",
    "print(classification_report(y_test, y_pred))"
   ]
  },
  {
   "cell_type": "code",
   "execution_count": 110,
   "id": "b5fe6bbc",
   "metadata": {},
   "outputs": [
    {
     "name": "stdout",
     "output_type": "stream",
     "text": [
      "Accuracy: 0.769\n",
      "[[3923 1947]\n",
      " [1518 7612]]\n",
      "              precision    recall  f1-score   support\n",
      "\n",
      "           0       0.72      0.67      0.69      5870\n",
      "           1       0.80      0.83      0.81      9130\n",
      "\n",
      "    accuracy                           0.77     15000\n",
      "   macro avg       0.76      0.75      0.75     15000\n",
      "weighted avg       0.77      0.77      0.77     15000\n",
      "\n"
     ]
    },
    {
     "name": "stderr",
     "output_type": "stream",
     "text": [
      "C:\\Users\\Mangaleswara\\anaconda3\\lib\\site-packages\\diffprivlib\\models\\logistic_regression.py:239: PrivacyLeakWarning: Data norm has not been specified and will be calculated on the data provided.  This will result in additional privacy leakage. To ensure differential privacy and no additional privacy leakage, specify `data_norm` at initialisation.\n",
      "  warnings.warn(\"Data norm has not been specified and will be calculated on the data provided.  This will \"\n"
     ]
    }
   ],
   "source": [
    "from diffprivlib.models import LogisticRegression\n",
    "\n",
    "model = LogisticRegression(epsilon=1)\n",
    "model.fit(X_train, y_train)\n",
    "y_pred = model.predict(X_test)\n",
    "\n",
    "accuracy = model.score(X_test, y_test)\n",
    "print('Accuracy:', accuracy)\n",
    "print(confusion_matrix(y_test, y_pred))\n",
    "print(classification_report(y_test, y_pred))"
   ]
  },
  {
   "cell_type": "code",
   "execution_count": 92,
   "id": "8b152c4c",
   "metadata": {},
   "outputs": [],
   "source": [
    "lag1=lag[lag[\"Gender\"]==\"Female\"]\n",
    "lag2=lag[lag[\"Gender\"]==\"Male\"]\n",
    "X_test1=lag2[['amount_difference', 'interest_duration_index','IncomeTotal','PrincipalPaymentsMade','PreviousEarlyRepaymentsCountBeforeLoan']]\n",
    "X_test2=lag1[['amount_difference', 'interest_duration_index','IncomeTotal','PrincipalPaymentsMade','PreviousEarlyRepaymentsCountBeforeLoan']]\n",
    "y2 = lag1['Default'].values\n",
    "y_test2 = y2.astype('int')\n",
    "y1 = lag2['Default'].values\n",
    "y_test1 = y1.astype('int')"
   ]
  },
  {
   "cell_type": "markdown",
   "id": "b9d29bb0",
   "metadata": {},
   "source": [
    "On male seperated other test data"
   ]
  },
  {
   "cell_type": "code",
   "execution_count": 104,
   "id": "ec0e1158",
   "metadata": {},
   "outputs": [
    {
     "name": "stdout",
     "output_type": "stream",
     "text": [
      "Accuracy: 0.47284747363450336\n",
      "[[   0 2455]\n",
      " [ 894 3004]]\n",
      "              precision    recall  f1-score   support\n",
      "\n",
      "           0       0.00      0.00      0.00      2455\n",
      "           1       0.55      0.77      0.64      3898\n",
      "\n",
      "    accuracy                           0.47      6353\n",
      "   macro avg       0.28      0.39      0.32      6353\n",
      "weighted avg       0.34      0.47      0.39      6353\n",
      "\n"
     ]
    }
   ],
   "source": [
    "from sklearn.linear_model import LogisticRegression\n",
    "X_train, X_test, y_train, y_test = train_test_split(X, y, test_size=0.3, random_state=123)\n",
    "\n",
    "model = LogisticRegression()\n",
    "model.fit(X_train, y_train)\n",
    "y_pred = model.predict(X_test1)\n",
    "\n",
    "accuracy = model.score(X_test1, y_test1)\n",
    "print('Accuracy:', accuracy)\n",
    "\n",
    "print(confusion_matrix(y_test1, y_pred))\n",
    "print(classification_report(y_test1, y_pred))"
   ]
  },
  {
   "cell_type": "markdown",
   "id": "54427449",
   "metadata": {},
   "source": [
    "On test data where only female gender is selected"
   ]
  },
  {
   "cell_type": "code",
   "execution_count": 106,
   "id": "2ff10bdf",
   "metadata": {},
   "outputs": [
    {
     "name": "stdout",
     "output_type": "stream",
     "text": [
      "Accuracy: 0.4722787385554425\n",
      "[[   0 1717]\n",
      " [ 358 1857]]\n",
      "              precision    recall  f1-score   support\n",
      "\n",
      "           0       0.00      0.00      0.00      1717\n",
      "           1       0.52      0.84      0.64      2215\n",
      "\n",
      "    accuracy                           0.47      3932\n",
      "   macro avg       0.26      0.42      0.32      3932\n",
      "weighted avg       0.29      0.47      0.36      3932\n",
      "\n"
     ]
    }
   ],
   "source": [
    "from sklearn.linear_model import LogisticRegression\n",
    "model = LogisticRegression()\n",
    "model.fit(X_train, y_train)\n",
    "y_pred = model.predict(X_test2)\n",
    "\n",
    "accuracy = model.score(X_test2, y_test2)\n",
    "print('Accuracy:', accuracy)\n",
    "\n",
    "print(confusion_matrix(y_test2, y_pred))\n",
    "print(classification_report(y_test2, y_pred))"
   ]
  },
  {
   "cell_type": "code",
   "execution_count": 107,
   "id": "701e7f4f",
   "metadata": {},
   "outputs": [
    {
     "data": {
      "text/plain": [
       "0.9089521871820956"
      ]
     },
     "execution_count": 107,
     "metadata": {},
     "output_type": "execute_result"
    }
   ],
   "source": [
    "pa=(np.sum(y_pred))/len(y_pred)\n",
    "pa"
   ]
  },
  {
   "cell_type": "markdown",
   "id": "3da1bca5",
   "metadata": {},
   "source": [
    "The probability of advantage class is 0.90895"
   ]
  },
  {
   "cell_type": "markdown",
   "id": "976dcfad",
   "metadata": {},
   "source": [
    "# ACF"
   ]
  },
  {
   "cell_type": "code",
   "execution_count": 94,
   "id": "5be8370e",
   "metadata": {},
   "outputs": [
    {
     "data": {
      "text/html": [
       "<div>\n",
       "<style scoped>\n",
       "    .dataframe tbody tr th:only-of-type {\n",
       "        vertical-align: middle;\n",
       "    }\n",
       "\n",
       "    .dataframe tbody tr th {\n",
       "        vertical-align: top;\n",
       "    }\n",
       "\n",
       "    .dataframe thead th {\n",
       "        text-align: right;\n",
       "    }\n",
       "</style>\n",
       "<table border=\"1\" class=\"dataframe\">\n",
       "  <thead>\n",
       "    <tr style=\"text-align: right;\">\n",
       "      <th></th>\n",
       "      <th>amount_difference</th>\n",
       "      <th>interest_duration_index</th>\n",
       "      <th>IncomeTotal</th>\n",
       "      <th>PrincipalPaymentsMade</th>\n",
       "      <th>PreviousEarlyRepaymentsCountBeforeLoan</th>\n",
       "    </tr>\n",
       "  </thead>\n",
       "  <tbody>\n",
       "    <tr>\n",
       "      <th>0</th>\n",
       "      <td>0.0</td>\n",
       "      <td>2679.0</td>\n",
       "      <td>650.0</td>\n",
       "      <td>5500.00</td>\n",
       "      <td>0</td>\n",
       "    </tr>\n",
       "    <tr>\n",
       "      <th>1</th>\n",
       "      <td>0.0</td>\n",
       "      <td>1429.8</td>\n",
       "      <td>445.0</td>\n",
       "      <td>1200.00</td>\n",
       "      <td>0</td>\n",
       "    </tr>\n",
       "    <tr>\n",
       "      <th>2</th>\n",
       "      <td>0.0</td>\n",
       "      <td>4511.4</td>\n",
       "      <td>1117.0</td>\n",
       "      <td>1000.00</td>\n",
       "      <td>0</td>\n",
       "    </tr>\n",
       "    <tr>\n",
       "      <th>3</th>\n",
       "      <td>0.0</td>\n",
       "      <td>1305.6</td>\n",
       "      <td>1472.0</td>\n",
       "      <td>1000.00</td>\n",
       "      <td>0</td>\n",
       "    </tr>\n",
       "    <tr>\n",
       "      <th>4</th>\n",
       "      <td>0.0</td>\n",
       "      <td>2208.6</td>\n",
       "      <td>503.0</td>\n",
       "      <td>4100.00</td>\n",
       "      <td>0</td>\n",
       "    </tr>\n",
       "    <tr>\n",
       "      <th>...</th>\n",
       "      <td>...</td>\n",
       "      <td>...</td>\n",
       "      <td>...</td>\n",
       "      <td>...</td>\n",
       "      <td>...</td>\n",
       "    </tr>\n",
       "    <tr>\n",
       "      <th>49995</th>\n",
       "      <td>179.0</td>\n",
       "      <td>1740.0</td>\n",
       "      <td>451.0</td>\n",
       "      <td>219.92</td>\n",
       "      <td>0</td>\n",
       "    </tr>\n",
       "    <tr>\n",
       "      <th>49996</th>\n",
       "      <td>490.0</td>\n",
       "      <td>1920.0</td>\n",
       "      <td>675.0</td>\n",
       "      <td>3510.00</td>\n",
       "      <td>0</td>\n",
       "    </tr>\n",
       "    <tr>\n",
       "      <th>49997</th>\n",
       "      <td>699.0</td>\n",
       "      <td>1860.0</td>\n",
       "      <td>2187.0</td>\n",
       "      <td>2093.23</td>\n",
       "      <td>0</td>\n",
       "    </tr>\n",
       "    <tr>\n",
       "      <th>49998</th>\n",
       "      <td>0.0</td>\n",
       "      <td>648.0</td>\n",
       "      <td>1250.0</td>\n",
       "      <td>133.51</td>\n",
       "      <td>0</td>\n",
       "    </tr>\n",
       "    <tr>\n",
       "      <th>49999</th>\n",
       "      <td>0.0</td>\n",
       "      <td>426.6</td>\n",
       "      <td>332.0</td>\n",
       "      <td>12.36</td>\n",
       "      <td>0</td>\n",
       "    </tr>\n",
       "  </tbody>\n",
       "</table>\n",
       "<p>50000 rows × 5 columns</p>\n",
       "</div>"
      ],
      "text/plain": [
       "       amount_difference  interest_duration_index  IncomeTotal  \\\n",
       "0                    0.0                   2679.0        650.0   \n",
       "1                    0.0                   1429.8        445.0   \n",
       "2                    0.0                   4511.4       1117.0   \n",
       "3                    0.0                   1305.6       1472.0   \n",
       "4                    0.0                   2208.6        503.0   \n",
       "...                  ...                      ...          ...   \n",
       "49995              179.0                   1740.0        451.0   \n",
       "49996              490.0                   1920.0        675.0   \n",
       "49997              699.0                   1860.0       2187.0   \n",
       "49998                0.0                    648.0       1250.0   \n",
       "49999                0.0                    426.6        332.0   \n",
       "\n",
       "       PrincipalPaymentsMade  PreviousEarlyRepaymentsCountBeforeLoan  \n",
       "0                    5500.00                                       0  \n",
       "1                    1200.00                                       0  \n",
       "2                    1000.00                                       0  \n",
       "3                    1000.00                                       0  \n",
       "4                    4100.00                                       0  \n",
       "...                      ...                                     ...  \n",
       "49995                 219.92                                       0  \n",
       "49996                3510.00                                       0  \n",
       "49997                2093.23                                       0  \n",
       "49998                 133.51                                       0  \n",
       "49999                  12.36                                       0  \n",
       "\n",
       "[50000 rows x 5 columns]"
      ]
     },
     "execution_count": 94,
     "metadata": {},
     "output_type": "execute_result"
    }
   ],
   "source": [
    "X"
   ]
  },
  {
   "cell_type": "code",
   "execution_count": 95,
   "id": "d25a26ff",
   "metadata": {},
   "outputs": [],
   "source": [
    "z = pd.get_dummies(req_df, columns = ['Country','Education','MaritalStatus','Gender'])"
   ]
  },
  {
   "cell_type": "code",
   "execution_count": 96,
   "id": "f6a69643",
   "metadata": {},
   "outputs": [
    {
     "data": {
      "text/plain": [
       "Index(['BidsPortfolioManager', 'BidsApi', 'BidsManual', 'NewCreditCustomer',\n",
       "       'LoanDate', 'FirstPaymentDate', 'MaturityDate_Original',\n",
       "       'MaturityDate_Last', 'VerificationType', 'LanguageCode', 'Age',\n",
       "       'AppliedAmount', 'Amount', 'Interest', 'LoanDuration', 'MonthlyPayment',\n",
       "       'City', 'UseOfLoan', 'EmploymentStatus',\n",
       "       'EmploymentDurationCurrentEmployer', 'OccupationArea',\n",
       "       'HomeOwnershipType', 'IncomeTotal', 'ExistingLiabilities',\n",
       "       'LiabilitiesTotal', 'RefinanceLiabilities', 'DebtToIncome', 'FreeCash',\n",
       "       'MonthlyPaymentDay', 'LastPaymentOn', 'Rating', 'Restructured',\n",
       "       'PrincipalPaymentsMade', 'InterestAndPenaltyPaymentsMade',\n",
       "       'PrincipalBalance', 'InterestAndPenaltyBalance',\n",
       "       'NoOfPreviousLoansBeforeLoan', 'AmountOfPreviousLoansBeforeLoan',\n",
       "       'PreviousEarlyRepaymentsCountBeforeLoan', 'Default', 'year',\n",
       "       'amount_difference', 'interest_duration_index', 'Country_EE',\n",
       "       'Country_ES', 'Country_FI', 'Country_SK', 'Education_Basic',\n",
       "       'Education_Higher', 'Education_Not_present', 'Education_Primary',\n",
       "       'Education_Secondary', 'Education_Vocational',\n",
       "       'MaritalStatus_Cohabitant', 'MaritalStatus_Divorced',\n",
       "       'MaritalStatus_Married', 'MaritalStatus_Not_specified',\n",
       "       'MaritalStatus_Single', 'MaritalStatus_Widow', 'Gender_Female',\n",
       "       'Gender_Male', 'Gender_Unknown'],\n",
       "      dtype='object')"
      ]
     },
     "execution_count": 96,
     "metadata": {},
     "output_type": "execute_result"
    }
   ],
   "source": [
    "z.columns"
   ]
  },
  {
   "cell_type": "code",
   "execution_count": 97,
   "id": "711d6c98",
   "metadata": {},
   "outputs": [],
   "source": [
    "z=z.iloc[:, -19:]"
   ]
  },
  {
   "cell_type": "code",
   "execution_count": 98,
   "id": "d6488fbb",
   "metadata": {},
   "outputs": [],
   "source": [
    "z=z[:50000]"
   ]
  },
  {
   "cell_type": "code",
   "execution_count": 99,
   "id": "e51ec178",
   "metadata": {},
   "outputs": [
    {
     "data": {
      "text/html": [
       "<div>\n",
       "<style scoped>\n",
       "    .dataframe tbody tr th:only-of-type {\n",
       "        vertical-align: middle;\n",
       "    }\n",
       "\n",
       "    .dataframe tbody tr th {\n",
       "        vertical-align: top;\n",
       "    }\n",
       "\n",
       "    .dataframe thead th {\n",
       "        text-align: right;\n",
       "    }\n",
       "</style>\n",
       "<table border=\"1\" class=\"dataframe\">\n",
       "  <thead>\n",
       "    <tr style=\"text-align: right;\">\n",
       "      <th></th>\n",
       "      <th>Country_EE</th>\n",
       "      <th>Country_ES</th>\n",
       "      <th>Country_FI</th>\n",
       "      <th>Country_SK</th>\n",
       "      <th>Education_Basic</th>\n",
       "      <th>Education_Higher</th>\n",
       "      <th>Education_Not_present</th>\n",
       "      <th>Education_Primary</th>\n",
       "      <th>Education_Secondary</th>\n",
       "      <th>Education_Vocational</th>\n",
       "      <th>...</th>\n",
       "      <th>MaritalStatus_Single</th>\n",
       "      <th>MaritalStatus_Widow</th>\n",
       "      <th>Gender_Female</th>\n",
       "      <th>Gender_Male</th>\n",
       "      <th>Gender_Unknown</th>\n",
       "      <th>amount_difference</th>\n",
       "      <th>interest_duration_index</th>\n",
       "      <th>IncomeTotal</th>\n",
       "      <th>PrincipalPaymentsMade</th>\n",
       "      <th>PreviousEarlyRepaymentsCountBeforeLoan</th>\n",
       "    </tr>\n",
       "  </thead>\n",
       "  <tbody>\n",
       "    <tr>\n",
       "      <th>0</th>\n",
       "      <td>1</td>\n",
       "      <td>0</td>\n",
       "      <td>0</td>\n",
       "      <td>0</td>\n",
       "      <td>0</td>\n",
       "      <td>0</td>\n",
       "      <td>0</td>\n",
       "      <td>0</td>\n",
       "      <td>1</td>\n",
       "      <td>0</td>\n",
       "      <td>...</td>\n",
       "      <td>1</td>\n",
       "      <td>0</td>\n",
       "      <td>0</td>\n",
       "      <td>1</td>\n",
       "      <td>0</td>\n",
       "      <td>0.0</td>\n",
       "      <td>2679.0</td>\n",
       "      <td>650.0</td>\n",
       "      <td>5500.00</td>\n",
       "      <td>0</td>\n",
       "    </tr>\n",
       "    <tr>\n",
       "      <th>1</th>\n",
       "      <td>1</td>\n",
       "      <td>0</td>\n",
       "      <td>0</td>\n",
       "      <td>0</td>\n",
       "      <td>0</td>\n",
       "      <td>0</td>\n",
       "      <td>0</td>\n",
       "      <td>0</td>\n",
       "      <td>0</td>\n",
       "      <td>1</td>\n",
       "      <td>...</td>\n",
       "      <td>1</td>\n",
       "      <td>0</td>\n",
       "      <td>0</td>\n",
       "      <td>1</td>\n",
       "      <td>0</td>\n",
       "      <td>0.0</td>\n",
       "      <td>1429.8</td>\n",
       "      <td>445.0</td>\n",
       "      <td>1200.00</td>\n",
       "      <td>0</td>\n",
       "    </tr>\n",
       "    <tr>\n",
       "      <th>2</th>\n",
       "      <td>1</td>\n",
       "      <td>0</td>\n",
       "      <td>0</td>\n",
       "      <td>0</td>\n",
       "      <td>1</td>\n",
       "      <td>0</td>\n",
       "      <td>0</td>\n",
       "      <td>0</td>\n",
       "      <td>0</td>\n",
       "      <td>0</td>\n",
       "      <td>...</td>\n",
       "      <td>0</td>\n",
       "      <td>0</td>\n",
       "      <td>1</td>\n",
       "      <td>0</td>\n",
       "      <td>0</td>\n",
       "      <td>0.0</td>\n",
       "      <td>4511.4</td>\n",
       "      <td>1117.0</td>\n",
       "      <td>1000.00</td>\n",
       "      <td>0</td>\n",
       "    </tr>\n",
       "    <tr>\n",
       "      <th>3</th>\n",
       "      <td>0</td>\n",
       "      <td>0</td>\n",
       "      <td>1</td>\n",
       "      <td>0</td>\n",
       "      <td>1</td>\n",
       "      <td>0</td>\n",
       "      <td>0</td>\n",
       "      <td>0</td>\n",
       "      <td>0</td>\n",
       "      <td>0</td>\n",
       "      <td>...</td>\n",
       "      <td>0</td>\n",
       "      <td>0</td>\n",
       "      <td>1</td>\n",
       "      <td>0</td>\n",
       "      <td>0</td>\n",
       "      <td>0.0</td>\n",
       "      <td>1305.6</td>\n",
       "      <td>1472.0</td>\n",
       "      <td>1000.00</td>\n",
       "      <td>0</td>\n",
       "    </tr>\n",
       "    <tr>\n",
       "      <th>4</th>\n",
       "      <td>1</td>\n",
       "      <td>0</td>\n",
       "      <td>0</td>\n",
       "      <td>0</td>\n",
       "      <td>0</td>\n",
       "      <td>0</td>\n",
       "      <td>0</td>\n",
       "      <td>0</td>\n",
       "      <td>1</td>\n",
       "      <td>0</td>\n",
       "      <td>...</td>\n",
       "      <td>0</td>\n",
       "      <td>0</td>\n",
       "      <td>1</td>\n",
       "      <td>0</td>\n",
       "      <td>0</td>\n",
       "      <td>0.0</td>\n",
       "      <td>2208.6</td>\n",
       "      <td>503.0</td>\n",
       "      <td>4100.00</td>\n",
       "      <td>0</td>\n",
       "    </tr>\n",
       "    <tr>\n",
       "      <th>...</th>\n",
       "      <td>...</td>\n",
       "      <td>...</td>\n",
       "      <td>...</td>\n",
       "      <td>...</td>\n",
       "      <td>...</td>\n",
       "      <td>...</td>\n",
       "      <td>...</td>\n",
       "      <td>...</td>\n",
       "      <td>...</td>\n",
       "      <td>...</td>\n",
       "      <td>...</td>\n",
       "      <td>...</td>\n",
       "      <td>...</td>\n",
       "      <td>...</td>\n",
       "      <td>...</td>\n",
       "      <td>...</td>\n",
       "      <td>...</td>\n",
       "      <td>...</td>\n",
       "      <td>...</td>\n",
       "      <td>...</td>\n",
       "      <td>...</td>\n",
       "    </tr>\n",
       "    <tr>\n",
       "      <th>49995</th>\n",
       "      <td>0</td>\n",
       "      <td>0</td>\n",
       "      <td>0</td>\n",
       "      <td>1</td>\n",
       "      <td>0</td>\n",
       "      <td>1</td>\n",
       "      <td>0</td>\n",
       "      <td>0</td>\n",
       "      <td>0</td>\n",
       "      <td>0</td>\n",
       "      <td>...</td>\n",
       "      <td>0</td>\n",
       "      <td>0</td>\n",
       "      <td>1</td>\n",
       "      <td>0</td>\n",
       "      <td>0</td>\n",
       "      <td>179.0</td>\n",
       "      <td>1740.0</td>\n",
       "      <td>451.0</td>\n",
       "      <td>219.92</td>\n",
       "      <td>0</td>\n",
       "    </tr>\n",
       "    <tr>\n",
       "      <th>49996</th>\n",
       "      <td>1</td>\n",
       "      <td>0</td>\n",
       "      <td>0</td>\n",
       "      <td>0</td>\n",
       "      <td>0</td>\n",
       "      <td>0</td>\n",
       "      <td>0</td>\n",
       "      <td>1</td>\n",
       "      <td>0</td>\n",
       "      <td>0</td>\n",
       "      <td>...</td>\n",
       "      <td>0</td>\n",
       "      <td>0</td>\n",
       "      <td>1</td>\n",
       "      <td>0</td>\n",
       "      <td>0</td>\n",
       "      <td>490.0</td>\n",
       "      <td>1920.0</td>\n",
       "      <td>675.0</td>\n",
       "      <td>3510.00</td>\n",
       "      <td>0</td>\n",
       "    </tr>\n",
       "    <tr>\n",
       "      <th>49997</th>\n",
       "      <td>0</td>\n",
       "      <td>0</td>\n",
       "      <td>1</td>\n",
       "      <td>0</td>\n",
       "      <td>0</td>\n",
       "      <td>0</td>\n",
       "      <td>0</td>\n",
       "      <td>0</td>\n",
       "      <td>0</td>\n",
       "      <td>1</td>\n",
       "      <td>...</td>\n",
       "      <td>0</td>\n",
       "      <td>0</td>\n",
       "      <td>0</td>\n",
       "      <td>1</td>\n",
       "      <td>0</td>\n",
       "      <td>699.0</td>\n",
       "      <td>1860.0</td>\n",
       "      <td>2187.0</td>\n",
       "      <td>2093.23</td>\n",
       "      <td>0</td>\n",
       "    </tr>\n",
       "    <tr>\n",
       "      <th>49998</th>\n",
       "      <td>1</td>\n",
       "      <td>0</td>\n",
       "      <td>0</td>\n",
       "      <td>0</td>\n",
       "      <td>1</td>\n",
       "      <td>0</td>\n",
       "      <td>0</td>\n",
       "      <td>0</td>\n",
       "      <td>0</td>\n",
       "      <td>0</td>\n",
       "      <td>...</td>\n",
       "      <td>0</td>\n",
       "      <td>0</td>\n",
       "      <td>0</td>\n",
       "      <td>1</td>\n",
       "      <td>0</td>\n",
       "      <td>0.0</td>\n",
       "      <td>648.0</td>\n",
       "      <td>1250.0</td>\n",
       "      <td>133.51</td>\n",
       "      <td>0</td>\n",
       "    </tr>\n",
       "    <tr>\n",
       "      <th>49999</th>\n",
       "      <td>1</td>\n",
       "      <td>0</td>\n",
       "      <td>0</td>\n",
       "      <td>0</td>\n",
       "      <td>0</td>\n",
       "      <td>0</td>\n",
       "      <td>0</td>\n",
       "      <td>0</td>\n",
       "      <td>1</td>\n",
       "      <td>0</td>\n",
       "      <td>...</td>\n",
       "      <td>0</td>\n",
       "      <td>0</td>\n",
       "      <td>0</td>\n",
       "      <td>1</td>\n",
       "      <td>0</td>\n",
       "      <td>0.0</td>\n",
       "      <td>426.6</td>\n",
       "      <td>332.0</td>\n",
       "      <td>12.36</td>\n",
       "      <td>0</td>\n",
       "    </tr>\n",
       "  </tbody>\n",
       "</table>\n",
       "<p>50000 rows × 24 columns</p>\n",
       "</div>"
      ],
      "text/plain": [
       "       Country_EE  Country_ES  Country_FI  Country_SK  Education_Basic  \\\n",
       "0               1           0           0           0                0   \n",
       "1               1           0           0           0                0   \n",
       "2               1           0           0           0                1   \n",
       "3               0           0           1           0                1   \n",
       "4               1           0           0           0                0   \n",
       "...           ...         ...         ...         ...              ...   \n",
       "49995           0           0           0           1                0   \n",
       "49996           1           0           0           0                0   \n",
       "49997           0           0           1           0                0   \n",
       "49998           1           0           0           0                1   \n",
       "49999           1           0           0           0                0   \n",
       "\n",
       "       Education_Higher  Education_Not_present  Education_Primary  \\\n",
       "0                     0                      0                  0   \n",
       "1                     0                      0                  0   \n",
       "2                     0                      0                  0   \n",
       "3                     0                      0                  0   \n",
       "4                     0                      0                  0   \n",
       "...                 ...                    ...                ...   \n",
       "49995                 1                      0                  0   \n",
       "49996                 0                      0                  1   \n",
       "49997                 0                      0                  0   \n",
       "49998                 0                      0                  0   \n",
       "49999                 0                      0                  0   \n",
       "\n",
       "       Education_Secondary  Education_Vocational  ...  MaritalStatus_Single  \\\n",
       "0                        1                     0  ...                     1   \n",
       "1                        0                     1  ...                     1   \n",
       "2                        0                     0  ...                     0   \n",
       "3                        0                     0  ...                     0   \n",
       "4                        1                     0  ...                     0   \n",
       "...                    ...                   ...  ...                   ...   \n",
       "49995                    0                     0  ...                     0   \n",
       "49996                    0                     0  ...                     0   \n",
       "49997                    0                     1  ...                     0   \n",
       "49998                    0                     0  ...                     0   \n",
       "49999                    1                     0  ...                     0   \n",
       "\n",
       "       MaritalStatus_Widow  Gender_Female  Gender_Male  Gender_Unknown  \\\n",
       "0                        0              0            1               0   \n",
       "1                        0              0            1               0   \n",
       "2                        0              1            0               0   \n",
       "3                        0              1            0               0   \n",
       "4                        0              1            0               0   \n",
       "...                    ...            ...          ...             ...   \n",
       "49995                    0              1            0               0   \n",
       "49996                    0              1            0               0   \n",
       "49997                    0              0            1               0   \n",
       "49998                    0              0            1               0   \n",
       "49999                    0              0            1               0   \n",
       "\n",
       "       amount_difference  interest_duration_index  IncomeTotal  \\\n",
       "0                    0.0                   2679.0        650.0   \n",
       "1                    0.0                   1429.8        445.0   \n",
       "2                    0.0                   4511.4       1117.0   \n",
       "3                    0.0                   1305.6       1472.0   \n",
       "4                    0.0                   2208.6        503.0   \n",
       "...                  ...                      ...          ...   \n",
       "49995              179.0                   1740.0        451.0   \n",
       "49996              490.0                   1920.0        675.0   \n",
       "49997              699.0                   1860.0       2187.0   \n",
       "49998                0.0                    648.0       1250.0   \n",
       "49999                0.0                    426.6        332.0   \n",
       "\n",
       "       PrincipalPaymentsMade  PreviousEarlyRepaymentsCountBeforeLoan  \n",
       "0                    5500.00                                       0  \n",
       "1                    1200.00                                       0  \n",
       "2                    1000.00                                       0  \n",
       "3                    1000.00                                       0  \n",
       "4                    4100.00                                       0  \n",
       "...                      ...                                     ...  \n",
       "49995                 219.92                                       0  \n",
       "49996                3510.00                                       0  \n",
       "49997                2093.23                                       0  \n",
       "49998                 133.51                                       0  \n",
       "49999                  12.36                                       0  \n",
       "\n",
       "[50000 rows x 24 columns]"
      ]
     },
     "execution_count": 99,
     "metadata": {},
     "output_type": "execute_result"
    }
   ],
   "source": [
    "from sklearn import datasets, linear_model, metrics\n",
    "sal = pd.concat([z, X], axis=1)\n",
    "sal = sal.dropna().reset_index(drop = True)\n",
    "sal"
   ]
  },
  {
   "cell_type": "code",
   "execution_count": 100,
   "id": "0889ca2d",
   "metadata": {
    "scrolled": true
   },
   "outputs": [
    {
     "data": {
      "text/html": [
       "<div>\n",
       "<style scoped>\n",
       "    .dataframe tbody tr th:only-of-type {\n",
       "        vertical-align: middle;\n",
       "    }\n",
       "\n",
       "    .dataframe tbody tr th {\n",
       "        vertical-align: top;\n",
       "    }\n",
       "\n",
       "    .dataframe thead th {\n",
       "        text-align: right;\n",
       "    }\n",
       "</style>\n",
       "<table border=\"1\" class=\"dataframe\">\n",
       "  <thead>\n",
       "    <tr style=\"text-align: right;\">\n",
       "      <th></th>\n",
       "      <th>amount_difference</th>\n",
       "      <th>interest_duration_index</th>\n",
       "      <th>IncomeTotal</th>\n",
       "      <th>PrincipalPaymentsMade</th>\n",
       "      <th>PreviousEarlyRepaymentsCountBeforeLoan</th>\n",
       "    </tr>\n",
       "  </thead>\n",
       "  <tbody>\n",
       "    <tr>\n",
       "      <th>0</th>\n",
       "      <td>366.750</td>\n",
       "      <td>-1892.5</td>\n",
       "      <td>298.0</td>\n",
       "      <td>-3996.00</td>\n",
       "      <td>0.160767</td>\n",
       "    </tr>\n",
       "    <tr>\n",
       "      <th>1</th>\n",
       "      <td>396.125</td>\n",
       "      <td>-475.3</td>\n",
       "      <td>497.0</td>\n",
       "      <td>190.00</td>\n",
       "      <td>0.172974</td>\n",
       "    </tr>\n",
       "    <tr>\n",
       "      <th>2</th>\n",
       "      <td>204.500</td>\n",
       "      <td>-3234.4</td>\n",
       "      <td>-461.0</td>\n",
       "      <td>329.00</td>\n",
       "      <td>0.182617</td>\n",
       "    </tr>\n",
       "    <tr>\n",
       "      <th>3</th>\n",
       "      <td>487.250</td>\n",
       "      <td>807.4</td>\n",
       "      <td>814.0</td>\n",
       "      <td>555.00</td>\n",
       "      <td>0.113770</td>\n",
       "    </tr>\n",
       "    <tr>\n",
       "      <th>4</th>\n",
       "      <td>261.750</td>\n",
       "      <td>-1089.6</td>\n",
       "      <td>341.0</td>\n",
       "      <td>-2471.00</td>\n",
       "      <td>0.165039</td>\n",
       "    </tr>\n",
       "    <tr>\n",
       "      <th>...</th>\n",
       "      <td>...</td>\n",
       "      <td>...</td>\n",
       "      <td>...</td>\n",
       "      <td>...</td>\n",
       "      <td>...</td>\n",
       "    </tr>\n",
       "    <tr>\n",
       "      <th>49995</th>\n",
       "      <td>-91.375</td>\n",
       "      <td>-398.0</td>\n",
       "      <td>543.0</td>\n",
       "      <td>555.08</td>\n",
       "      <td>0.004150</td>\n",
       "    </tr>\n",
       "    <tr>\n",
       "      <th>49996</th>\n",
       "      <td>-248.875</td>\n",
       "      <td>-541.0</td>\n",
       "      <td>645.0</td>\n",
       "      <td>-2109.00</td>\n",
       "      <td>0.166260</td>\n",
       "    </tr>\n",
       "    <tr>\n",
       "      <th>49997</th>\n",
       "      <td>-43.875</td>\n",
       "      <td>29.5</td>\n",
       "      <td>447.0</td>\n",
       "      <td>-343.23</td>\n",
       "      <td>0.116821</td>\n",
       "    </tr>\n",
       "    <tr>\n",
       "      <th>49998</th>\n",
       "      <td>75.500</td>\n",
       "      <td>715.5</td>\n",
       "      <td>-266.0</td>\n",
       "      <td>480.49</td>\n",
       "      <td>0.098755</td>\n",
       "    </tr>\n",
       "    <tr>\n",
       "      <th>49999</th>\n",
       "      <td>132.750</td>\n",
       "      <td>778.9</td>\n",
       "      <td>840.0</td>\n",
       "      <td>901.64</td>\n",
       "      <td>0.081177</td>\n",
       "    </tr>\n",
       "  </tbody>\n",
       "</table>\n",
       "<p>50000 rows × 5 columns</p>\n",
       "</div>"
      ],
      "text/plain": [
       "       amount_difference  interest_duration_index  IncomeTotal  \\\n",
       "0                366.750                  -1892.5        298.0   \n",
       "1                396.125                   -475.3        497.0   \n",
       "2                204.500                  -3234.4       -461.0   \n",
       "3                487.250                    807.4        814.0   \n",
       "4                261.750                  -1089.6        341.0   \n",
       "...                  ...                      ...          ...   \n",
       "49995            -91.375                   -398.0        543.0   \n",
       "49996           -248.875                   -541.0        645.0   \n",
       "49997            -43.875                     29.5        447.0   \n",
       "49998             75.500                    715.5       -266.0   \n",
       "49999            132.750                    778.9        840.0   \n",
       "\n",
       "       PrincipalPaymentsMade  PreviousEarlyRepaymentsCountBeforeLoan  \n",
       "0                   -3996.00                                0.160767  \n",
       "1                     190.00                                0.172974  \n",
       "2                     329.00                                0.182617  \n",
       "3                     555.00                                0.113770  \n",
       "4                   -2471.00                                0.165039  \n",
       "...                      ...                                     ...  \n",
       "49995                 555.08                                0.004150  \n",
       "49996               -2109.00                                0.166260  \n",
       "49997                -343.23                                0.116821  \n",
       "49998                 480.49                                0.098755  \n",
       "49999                 901.64                                0.081177  \n",
       "\n",
       "[50000 rows x 5 columns]"
      ]
     },
     "execution_count": 100,
     "metadata": {},
     "output_type": "execute_result"
    }
   ],
   "source": [
    "from sklearn import linear_model\n",
    "ind=X.columns\n",
    "dep=z.columns\n",
    "acf_residue=pd.DataFrame()\n",
    "reg = linear_model.LinearRegression()\n",
    "for i in ind:\n",
    "    reg.fit(sal[dep],sal[i])\n",
    "    ola=reg.predict(sal[dep])\n",
    "    temp=ola-sal[i]\n",
    "    acf_residue[i]=temp\n",
    "acf_residue"
   ]
  },
  {
   "cell_type": "code",
   "execution_count": 101,
   "id": "7ffa914c",
   "metadata": {},
   "outputs": [
    {
     "data": {
      "text/html": [
       "<div>\n",
       "<style scoped>\n",
       "    .dataframe tbody tr th:only-of-type {\n",
       "        vertical-align: middle;\n",
       "    }\n",
       "\n",
       "    .dataframe tbody tr th {\n",
       "        vertical-align: top;\n",
       "    }\n",
       "\n",
       "    .dataframe thead th {\n",
       "        text-align: right;\n",
       "    }\n",
       "</style>\n",
       "<table border=\"1\" class=\"dataframe\">\n",
       "  <thead>\n",
       "    <tr style=\"text-align: right;\">\n",
       "      <th></th>\n",
       "      <th>amount_difference</th>\n",
       "      <th>interest_duration_index</th>\n",
       "      <th>IncomeTotal</th>\n",
       "      <th>PrincipalPaymentsMade</th>\n",
       "      <th>PreviousEarlyRepaymentsCountBeforeLoan</th>\n",
       "      <th>Default</th>\n",
       "    </tr>\n",
       "  </thead>\n",
       "  <tbody>\n",
       "    <tr>\n",
       "      <th>0</th>\n",
       "      <td>366.750</td>\n",
       "      <td>-1892.5</td>\n",
       "      <td>298.0</td>\n",
       "      <td>-3996.00</td>\n",
       "      <td>0.160767</td>\n",
       "      <td>0</td>\n",
       "    </tr>\n",
       "    <tr>\n",
       "      <th>1</th>\n",
       "      <td>396.125</td>\n",
       "      <td>-475.3</td>\n",
       "      <td>497.0</td>\n",
       "      <td>190.00</td>\n",
       "      <td>0.172974</td>\n",
       "      <td>0</td>\n",
       "    </tr>\n",
       "    <tr>\n",
       "      <th>2</th>\n",
       "      <td>204.500</td>\n",
       "      <td>-3234.4</td>\n",
       "      <td>-461.0</td>\n",
       "      <td>329.00</td>\n",
       "      <td>0.182617</td>\n",
       "      <td>0</td>\n",
       "    </tr>\n",
       "    <tr>\n",
       "      <th>3</th>\n",
       "      <td>487.250</td>\n",
       "      <td>807.4</td>\n",
       "      <td>814.0</td>\n",
       "      <td>555.00</td>\n",
       "      <td>0.113770</td>\n",
       "      <td>0</td>\n",
       "    </tr>\n",
       "    <tr>\n",
       "      <th>4</th>\n",
       "      <td>261.750</td>\n",
       "      <td>-1089.6</td>\n",
       "      <td>341.0</td>\n",
       "      <td>-2471.00</td>\n",
       "      <td>0.165039</td>\n",
       "      <td>0</td>\n",
       "    </tr>\n",
       "    <tr>\n",
       "      <th>...</th>\n",
       "      <td>...</td>\n",
       "      <td>...</td>\n",
       "      <td>...</td>\n",
       "      <td>...</td>\n",
       "      <td>...</td>\n",
       "      <td>...</td>\n",
       "    </tr>\n",
       "    <tr>\n",
       "      <th>49995</th>\n",
       "      <td>-91.375</td>\n",
       "      <td>-398.0</td>\n",
       "      <td>543.0</td>\n",
       "      <td>555.08</td>\n",
       "      <td>0.004150</td>\n",
       "      <td>1</td>\n",
       "    </tr>\n",
       "    <tr>\n",
       "      <th>49996</th>\n",
       "      <td>-248.875</td>\n",
       "      <td>-541.0</td>\n",
       "      <td>645.0</td>\n",
       "      <td>-2109.00</td>\n",
       "      <td>0.166260</td>\n",
       "      <td>0</td>\n",
       "    </tr>\n",
       "    <tr>\n",
       "      <th>49997</th>\n",
       "      <td>-43.875</td>\n",
       "      <td>29.5</td>\n",
       "      <td>447.0</td>\n",
       "      <td>-343.23</td>\n",
       "      <td>0.116821</td>\n",
       "      <td>0</td>\n",
       "    </tr>\n",
       "    <tr>\n",
       "      <th>49998</th>\n",
       "      <td>75.500</td>\n",
       "      <td>715.5</td>\n",
       "      <td>-266.0</td>\n",
       "      <td>480.49</td>\n",
       "      <td>0.098755</td>\n",
       "      <td>1</td>\n",
       "    </tr>\n",
       "    <tr>\n",
       "      <th>49999</th>\n",
       "      <td>132.750</td>\n",
       "      <td>778.9</td>\n",
       "      <td>840.0</td>\n",
       "      <td>901.64</td>\n",
       "      <td>0.081177</td>\n",
       "      <td>1</td>\n",
       "    </tr>\n",
       "  </tbody>\n",
       "</table>\n",
       "<p>50000 rows × 6 columns</p>\n",
       "</div>"
      ],
      "text/plain": [
       "       amount_difference  interest_duration_index  IncomeTotal  \\\n",
       "0                366.750                  -1892.5        298.0   \n",
       "1                396.125                   -475.3        497.0   \n",
       "2                204.500                  -3234.4       -461.0   \n",
       "3                487.250                    807.4        814.0   \n",
       "4                261.750                  -1089.6        341.0   \n",
       "...                  ...                      ...          ...   \n",
       "49995            -91.375                   -398.0        543.0   \n",
       "49996           -248.875                   -541.0        645.0   \n",
       "49997            -43.875                     29.5        447.0   \n",
       "49998             75.500                    715.5       -266.0   \n",
       "49999            132.750                    778.9        840.0   \n",
       "\n",
       "       PrincipalPaymentsMade  PreviousEarlyRepaymentsCountBeforeLoan  Default  \n",
       "0                   -3996.00                                0.160767        0  \n",
       "1                     190.00                                0.172974        0  \n",
       "2                     329.00                                0.182617        0  \n",
       "3                     555.00                                0.113770        0  \n",
       "4                   -2471.00                                0.165039        0  \n",
       "...                      ...                                     ...      ...  \n",
       "49995                 555.08                                0.004150        1  \n",
       "49996               -2109.00                                0.166260        0  \n",
       "49997                -343.23                                0.116821        0  \n",
       "49998                 480.49                                0.098755        1  \n",
       "49999                 901.64                                0.081177        1  \n",
       "\n",
       "[50000 rows x 6 columns]"
      ]
     },
     "execution_count": 101,
     "metadata": {},
     "output_type": "execute_result"
    }
   ],
   "source": [
    "acf_residue = pd.concat([acf_residue,lap['Default']], axis=1)\n",
    "acf_residue"
   ]
  },
  {
   "cell_type": "code",
   "execution_count": 103,
   "id": "3e5e99fe",
   "metadata": {},
   "outputs": [],
   "source": [
    "X=acf_residue.drop([\"Default\"],axis=1)\n",
    "y = acf_residue['Default'].values\n",
    "y = y.astype('int')"
   ]
  },
  {
   "cell_type": "markdown",
   "id": "bef46024",
   "metadata": {},
   "source": [
    "# ACF Residuals model"
   ]
  },
  {
   "cell_type": "code",
   "execution_count": 93,
   "id": "7391826d",
   "metadata": {},
   "outputs": [
    {
     "name": "stdout",
     "output_type": "stream",
     "text": [
      "Accuracy: 0.7854\n",
      "[[3431 2439]\n",
      " [ 780 8350]]\n",
      "              precision    recall  f1-score   support\n",
      "\n",
      "           0       0.81      0.58      0.68      5870\n",
      "           1       0.77      0.91      0.84      9130\n",
      "\n",
      "    accuracy                           0.79     15000\n",
      "   macro avg       0.79      0.75      0.76     15000\n",
      "weighted avg       0.79      0.79      0.78     15000\n",
      "\n"
     ]
    }
   ],
   "source": [
    "from sklearn.linear_model import LogisticRegression\n",
    "\n",
    "X_train, X_test, y_train, y_test = train_test_split(X, y, test_size=0.3, random_state=123)\n",
    "\n",
    "model = LogisticRegression()\n",
    "model.fit(X_train, y_train)\n",
    "y_pred = model.predict(X_test)\n",
    "\n",
    "accuracy = model.score(X_test, y_test)\n",
    "print('Accuracy:', accuracy)\n",
    "\n",
    "print(confusion_matrix(y_test, y_pred))\n",
    "print(classification_report(y_test, y_pred))"
   ]
  },
  {
   "cell_type": "code",
   "execution_count": 194,
   "id": "f9a43092",
   "metadata": {},
   "outputs": [
    {
     "name": "stdout",
     "output_type": "stream",
     "text": [
      "Accuracy: 0.7493333333333333\n",
      "[[3882 1988]\n",
      " [1772 7358]]\n",
      "              precision    recall  f1-score   support\n",
      "\n",
      "           0       0.69      0.66      0.67      5870\n",
      "           1       0.79      0.81      0.80      9130\n",
      "\n",
      "    accuracy                           0.75     15000\n",
      "   macro avg       0.74      0.73      0.74     15000\n",
      "weighted avg       0.75      0.75      0.75     15000\n",
      "\n"
     ]
    },
    {
     "name": "stderr",
     "output_type": "stream",
     "text": [
      "C:\\Users\\Mangaleswara\\anaconda3\\lib\\site-packages\\diffprivlib\\models\\logistic_regression.py:239: PrivacyLeakWarning: Data norm has not been specified and will be calculated on the data provided.  This will result in additional privacy leakage. To ensure differential privacy and no additional privacy leakage, specify `data_norm` at initialisation.\n",
      "  warnings.warn(\"Data norm has not been specified and will be calculated on the data provided.  This will \"\n"
     ]
    }
   ],
   "source": [
    "from diffprivlib.models import LogisticRegression\n",
    "\n",
    "model = LogisticRegression(epsilon=1)\n",
    "model.fit(X_train, y_train)\n",
    "y_pred = model.predict(X_test)\n",
    "\n",
    "accuracy = model.score(X_test, y_test)\n",
    "print('Accuracy:', accuracy)\n",
    "print(confusion_matrix(y_test, y_pred))\n",
    "print(classification_report(y_test, y_pred))"
   ]
  },
  {
   "cell_type": "markdown",
   "id": "5278ddab",
   "metadata": {},
   "source": [
    "On male test subjects"
   ]
  },
  {
   "cell_type": "code",
   "execution_count": 19,
   "id": "1b24415c",
   "metadata": {},
   "outputs": [
    {
     "name": "stdout",
     "output_type": "stream",
     "text": [
      "Accuracy: 0.8317330395088934\n",
      "[[1591  864]\n",
      " [ 205 3693]]\n",
      "              precision    recall  f1-score   support\n",
      "\n",
      "           0       0.89      0.65      0.75      2455\n",
      "           1       0.81      0.95      0.87      3898\n",
      "\n",
      "    accuracy                           0.83      6353\n",
      "   macro avg       0.85      0.80      0.81      6353\n",
      "weighted avg       0.84      0.83      0.83      6353\n",
      "\n"
     ]
    }
   ],
   "source": [
    "from sklearn.linear_model import LogisticRegression\n",
    "model = LogisticRegression()\n",
    "model.fit(X_train, y_train)\n",
    "y_pred = model.predict(X_test1)\n",
    "\n",
    "accuracy = model.score(X_test1, y_test1)\n",
    "print('Accuracy:', accuracy)\n",
    "\n",
    "print(confusion_matrix(y_test1, y_pred))\n",
    "print(classification_report(y_test1, y_pred))"
   ]
  },
  {
   "cell_type": "code",
   "execution_count": 20,
   "id": "0ca8e64d",
   "metadata": {},
   "outputs": [
    {
     "data": {
      "text/plain": [
       "array([1, 0, 1, ..., 0, 0, 0])"
      ]
     },
     "execution_count": 20,
     "metadata": {},
     "output_type": "execute_result"
    }
   ],
   "source": [
    "y_pred"
   ]
  },
  {
   "cell_type": "code",
   "execution_count": 23,
   "id": "770a39ec",
   "metadata": {},
   "outputs": [
    {
     "data": {
      "text/plain": [
       "0.7172989138989454"
      ]
     },
     "execution_count": 23,
     "metadata": {},
     "output_type": "execute_result"
    }
   ],
   "source": [
    "pa=(np.sum(y_pred))/len(y_pred)\n",
    "pa"
   ]
  },
  {
   "cell_type": "markdown",
   "id": "ba56d713",
   "metadata": {},
   "source": [
    "The probability of advantage class is 0.7172"
   ]
  },
  {
   "cell_type": "markdown",
   "id": "6241b77e",
   "metadata": {},
   "source": [
    "on female test subjects"
   ]
  },
  {
   "cell_type": "code",
   "execution_count": 24,
   "id": "1db42388",
   "metadata": {},
   "outputs": [
    {
     "name": "stdout",
     "output_type": "stream",
     "text": [
      "Accuracy: 0.8008646998982706\n",
      "[[1070  647]\n",
      " [ 136 2079]]\n",
      "              precision    recall  f1-score   support\n",
      "\n",
      "           0       0.89      0.62      0.73      1717\n",
      "           1       0.76      0.94      0.84      2215\n",
      "\n",
      "    accuracy                           0.80      3932\n",
      "   macro avg       0.82      0.78      0.79      3932\n",
      "weighted avg       0.82      0.80      0.79      3932\n",
      "\n"
     ]
    }
   ],
   "source": [
    "from sklearn.linear_model import LogisticRegression\n",
    "model = LogisticRegression()\n",
    "model.fit(X_train, y_train)\n",
    "y_pred = model.predict(X_test2)\n",
    "\n",
    "accuracy = model.score(X_test2, y_test2)\n",
    "print('Accuracy:', accuracy)\n",
    "\n",
    "print(confusion_matrix(y_test2, y_pred))\n",
    "print(classification_report(y_test2, y_pred))"
   ]
  },
  {
   "cell_type": "code",
   "execution_count": 25,
   "id": "b72f44c9",
   "metadata": {},
   "outputs": [
    {
     "data": {
      "text/plain": [
       "0.6932858596134283"
      ]
     },
     "execution_count": 25,
     "metadata": {},
     "output_type": "execute_result"
    }
   ],
   "source": [
    "pd=(np.sum(y_pred))/len(y_pred)\n",
    "pd"
   ]
  },
  {
   "cell_type": "markdown",
   "id": "399ab42e",
   "metadata": {},
   "source": [
    "The probability of disadvantage class is 0.6932"
   ]
  },
  {
   "cell_type": "code",
   "execution_count": null,
   "id": "01406785",
   "metadata": {},
   "outputs": [],
   "source": []
  }
 ],
 "metadata": {
  "kernelspec": {
   "display_name": "Python 3 (ipykernel)",
   "language": "python",
   "name": "python3"
  },
  "language_info": {
   "codemirror_mode": {
    "name": "ipython",
    "version": 3
   },
   "file_extension": ".py",
   "mimetype": "text/x-python",
   "name": "python",
   "nbconvert_exporter": "python",
   "pygments_lexer": "ipython3",
   "version": "3.9.12"
  }
 },
 "nbformat": 4,
 "nbformat_minor": 5
}
